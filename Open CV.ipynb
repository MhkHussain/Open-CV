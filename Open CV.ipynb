{
 "cells": [
  {
   "cell_type": "code",
   "execution_count": 1,
   "id": "f8e04755",
   "metadata": {},
   "outputs": [],
   "source": [
    "import cv2"
   ]
  },
  {
   "cell_type": "code",
   "execution_count": 2,
   "id": "586df97c",
   "metadata": {},
   "outputs": [],
   "source": [
    "import tensorflow as tf"
   ]
  },
  {
   "cell_type": "code",
   "execution_count": 3,
   "id": "92b0ee50",
   "metadata": {},
   "outputs": [],
   "source": [
    "import keras"
   ]
  },
  {
   "cell_type": "code",
   "execution_count": 3,
   "id": "90c98397",
   "metadata": {},
   "outputs": [],
   "source": [
    "import cv2\n",
    "cap= cv2.VideoCapture(0) # 0 for laptop camera, #1 for usb webcam\n",
    "\n",
    "while True:\n",
    "    success, img = cap.read()\n",
    "    cv2.imshow(\"Frame\", img)\n",
    "    k= cv2.waitKey(1)\n",
    "    if k==ord('q'):\n",
    "        break\n",
    "        \n",
    "cap.release()\n",
    "cv2.destroyAllWindows()"
   ]
  },
  {
   "cell_type": "code",
   "execution_count": 2,
   "id": "e2ac40a2",
   "metadata": {},
   "outputs": [],
   "source": [
    "import cv2\n",
    " \n",
    "img = cv2.imread(\"scenery.jpg\")\n",
    "\n",
    "cv2.imshow(\"Image of Scenery\", img)\n",
    "cv2.waitKey(0)\n",
    "cv2.destroyAllWindows()"
   ]
  },
  {
   "cell_type": "code",
   "execution_count": 5,
   "id": "ce07cf1e",
   "metadata": {},
   "outputs": [],
   "source": [
    "#black n white image\n",
    "import cv2\n",
    " \n",
    "img = cv2.imread(\"scenery.jpg\",0)\n",
    "\n",
    "cv2.imshow(\"Image of Scenery\", img)\n",
    "cv2.waitKey(0)\n",
    "cv2.destroyAllWindows()"
   ]
  },
  {
   "cell_type": "code",
   "execution_count": 5,
   "id": "03de942e",
   "metadata": {},
   "outputs": [
    {
     "name": "stdout",
     "output_type": "stream",
     "text": [
      "(480, 853, 3)\n",
      "Height of image: 480\n",
      "Width of image: 853\n",
      "Color of image: 3\n"
     ]
    }
   ],
   "source": [
    "#find the pixels of image\n",
    "import cv2\n",
    " \n",
    "img = cv2.imread(\"scenery.jpg\")\n",
    "\n",
    "cv2.imshow(\"Image of Scenery\", img)\n",
    "print(img.shape)  #(height, width, color)\n",
    "print(\"Height of image:\", img.shape[0])\n",
    "print(\"Width of image:\", img.shape[1])\n",
    "print(\"Color of image:\", img.shape[2])\n",
    "\n",
    "cv2.waitKey(0)\n",
    "cv2.destroyAllWindows()"
   ]
  },
  {
   "cell_type": "code",
   "execution_count": 7,
   "id": "41b33f3c",
   "metadata": {},
   "outputs": [],
   "source": [
    "import cv2\n",
    "\n",
    "img= cv2.imread(\"scenery.jpg\")\n",
    "height, width = img.shape[:2]\n",
    "\n",
    "rotation_matrix = cv2.getRotationMatrix2D((width/2, height/2), 70,0.5)\n",
    "\n",
    "rotated_image=cv2.warpAffine(img, rotation_matrix,(width, height))\n",
    "\n",
    "cv2.imshow(\"Original Image\", img)\n",
    "cv2.imshow(\"Rotated Image\", rotated_image)\n",
    "\n",
    "\n",
    "cv2.waitKey(0)\n",
    "cv2.destroyAllWindows()"
   ]
  },
  {
   "cell_type": "code",
   "execution_count": null,
   "id": "e25da6be",
   "metadata": {},
   "outputs": [],
   "source": []
  }
 ],
 "metadata": {
  "kernelspec": {
   "display_name": "Python 3 (ipykernel)",
   "language": "python",
   "name": "python3"
  },
  "language_info": {
   "codemirror_mode": {
    "name": "ipython",
    "version": 3
   },
   "file_extension": ".py",
   "mimetype": "text/x-python",
   "name": "python",
   "nbconvert_exporter": "python",
   "pygments_lexer": "ipython3",
   "version": "3.8.9"
  }
 },
 "nbformat": 4,
 "nbformat_minor": 5
}
